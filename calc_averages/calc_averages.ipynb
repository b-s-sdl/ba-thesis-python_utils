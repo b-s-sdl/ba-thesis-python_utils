{
 "cells": [
  {
   "cell_type": "code",
   "execution_count": 2,
   "metadata": {},
   "outputs": [],
   "source": [
    "import numpy as np\n",
    "import yt\n",
    "import matplotlib.pyplot as plt"
   ]
  },
  {
   "cell_type": "code",
   "execution_count": 3,
   "metadata": {},
   "outputs": [
    {
     "name": "stderr",
     "output_type": "stream",
     "text": [
      "yt : [INFO     ] 2023-06-22 15:25:25,271 Temporarily setting domain_right_edge = -domain_left_edge. This will be corrected automatically if it is not the case.\n"
     ]
    },
    {
     "name": "stderr",
     "output_type": "stream",
     "text": [
      "yt : [WARNING  ] 2023-06-22 15:25:25,516 Assuming 1.0 = 1.0 cm\n",
      "yt : [WARNING  ] 2023-06-22 15:25:25,518 Assuming 1.0 = 1.0 s\n",
      "yt : [WARNING  ] 2023-06-22 15:25:25,518 Assuming 1.0 = 1.0 g\n",
      "yt : [INFO     ] 2023-06-22 15:25:25,593 Parameters: current_time              = 42.00505\n",
      "yt : [INFO     ] 2023-06-22 15:25:25,593 Parameters: domain_dimensions         = [640 640 640]\n",
      "yt : [INFO     ] 2023-06-22 15:25:25,594 Parameters: domain_left_edge          = [-200. -200. -200.]\n",
      "yt : [INFO     ] 2023-06-22 15:25:25,595 Parameters: domain_right_edge         = [200. 200. 200.]\n",
      "yt : [INFO     ] 2023-06-22 15:25:25,596 Parameters: cosmological_simulation   = 0\n"
     ]
    }
   ],
   "source": [
    "ds = yt.load(\"/ptmp/mpa/bseidl/Simulation-Runs/2023-06-13_multiCloud_Series3-4_64clouds/data/id0/cloud.0042.vtk\")#, parameters = [periodicity = (False,False,False)])"
   ]
  },
  {
   "cell_type": "code",
   "execution_count": 4,
   "metadata": {},
   "outputs": [],
   "source": [
    "dd = ds.all_data()\n",
    "reg = ds.r[0.1:0.5, 0.3:0.7,0.3:0.7]\n",
    "\n",
    "coveringgrid = ds.arbitrary_grid([-50,-50,-50], [150,100,100], dims=[320,240,240])"
   ]
  },
  {
   "cell_type": "code",
   "execution_count": 52,
   "metadata": {},
   "outputs": [
    {
     "name": "stdout",
     "output_type": "stream",
     "text": [
      "[[[1.0610224  1.06081271 1.06062269 ... 1.0607065  1.06124151 1.06181014]\n",
      "  [1.06055319 1.06033671 1.06013513 ... 1.06050348 1.06103325 1.06159735]\n",
      "  [1.0601033  1.05987394 1.0596509  ... 1.06030583 1.06083226 1.0613929 ]\n",
      "  ...\n",
      "  [1.07070875 1.0704999  1.07030845 ... 1.07106352 1.07062364 1.07026052]\n",
      "  [1.07073379 1.07052982 1.07034349 ... 1.07056642 1.07017529 1.06985116]\n",
      "  [1.0708164  1.07061636 1.07043767 ... 1.07010198 1.06975389 1.06948054]]\n",
      "\n",
      " [[1.05908108 1.05881774 1.05857325 ... 1.0593493  1.05986428 1.0604074 ]\n",
      "  [1.05856276 1.05830598 1.05806744 ... 1.05915034 1.0596602  1.06019926]\n",
      "  [1.05807018 1.05781758 1.05757868 ... 1.05895567 1.05946219 1.0599978 ]\n",
      "  ...\n",
      "  [1.06980288 1.06959653 1.06941211 ... 1.0712285  1.07069838 1.07026482]\n",
      "  [1.06978369 1.0695802  1.06939685 ... 1.07071209 1.07023215 1.06984699]\n",
      "  [1.06982219 1.06961858 1.06943345 ... 1.07020652 1.06978941 1.06944978]]\n",
      "\n",
      " [[1.05719316 1.05693388 1.05668485 ... 1.05800271 1.0584985  1.05901814]\n",
      "  [1.05669451 1.05644453 1.05620611 ... 1.05781054 1.05830145 1.05881715]\n",
      "  [1.05621433 1.05597484 1.05574763 ... 1.05762148 1.05810869 1.05862081]\n",
      "  ...\n",
      "  [1.06894791 1.0687499  1.06857657 ... 1.07141733 1.07079637 1.07027888]\n",
      "  [1.06884921 1.06865108 1.06847608 ... 1.07090104 1.07032847 1.06986248]\n",
      "  [1.06884134 1.06864238 1.06846142 ... 1.07038569 1.06987095 1.06945968]]\n",
      "\n",
      " ...\n",
      "\n",
      " [[1.17662752 1.10266399 1.0375632  ... 0.92533034 0.92500293 0.92479235]\n",
      "  [1.17839754 1.11989534 1.0387218  ... 0.92549866 0.92511982 0.9248594 ]\n",
      "  [1.12451053 1.06030941 0.99071538 ... 0.92571175 0.92530048 0.9250012 ]\n",
      "  ...\n",
      "  [0.9327805  0.93244028 0.93209225 ... 0.95024973 0.95035893 0.95036006]\n",
      "  [0.93402082 0.9337734  0.93351066 ... 0.95046753 0.95057487 0.95054638]\n",
      "  [0.93515027 0.9350121  0.93483824 ... 0.95076644 0.95084721 0.95079833]]\n",
      "\n",
      " [[1.17862654 1.1263026  1.05064452 ... 0.92581141 0.92551929 0.92530048]\n",
      "  [1.15486598 1.1119442  1.0328331  ... 0.92597538 0.92564964 0.9253884 ]\n",
      "  [1.06936049 1.01650262 0.95492327 ... 0.92618299 0.92582983 0.92553836]\n",
      "  ...\n",
      "  [0.93277591 0.93244183 0.93211901 ... 0.94981951 0.95001799 0.95005953]\n",
      "  [0.93403548 0.93380433 0.93356204 ... 0.950077   0.9502703  0.95029366]\n",
      "  [0.93518329 0.9350704  0.93493134 ... 0.95042902 0.95059901 0.95061457]]\n",
      "\n",
      " [[1.16407263 1.1267097  1.0578599  ... 0.92614055 0.92592406 0.92573005]\n",
      "  [1.11365676 1.08964396 1.02373755 ... 0.92628956 0.92605507 0.92582566]\n",
      "  [1.02945912 0.98285013 0.94038635 ... 0.92648125 0.92622536 0.92597514]\n",
      "  ...\n",
      "  [0.93284726 0.93254137 0.93224144 ... 0.94927531 0.94954967 0.94966817]\n",
      "  [0.93408716 0.93389112 0.93368125 ... 0.94953835 0.94983166 0.94994789]\n",
      "  [0.93521643 0.9351365  0.93504143 ... 0.94992596 0.9502272  0.95032316]]] g/cm**3\n",
      "(320, 240, 240)\n"
     ]
    }
   ],
   "source": [
    "print(coveringgrid[\"gas\",\"density\"][:,:,:])\n",
    "print(np.shape(coveringgrid[\"gas\",\"density\"][:,:,:]))"
   ]
  },
  {
   "cell_type": "code",
   "execution_count": 19,
   "metadata": {},
   "outputs": [
    {
     "name": "stdout",
     "output_type": "stream",
     "text": [
      "YTRegion (cloud.0042): , center=[0.3 0.5 0.5] cm, left_edge=[0.1 0.3 0.3] cm, right_edge=[0.5 0.7 0.7] cm\n"
     ]
    }
   ],
   "source": [
    "print(reg)"
   ]
  },
  {
   "cell_type": "code",
   "execution_count": 13,
   "metadata": {},
   "outputs": [
    {
     "name": "stdout",
     "output_type": "stream",
     "text": [
      "[1.         1.         1.         ... 1.43092394 1.42613506 1.40976667] g/cm**3\n"
     ]
    }
   ],
   "source": [
    "print(dd[\"gas\",'density'])"
   ]
  },
  {
   "cell_type": "code",
   "execution_count": 5,
   "metadata": {},
   "outputs": [],
   "source": [
    "#meandd = np.mean(dd[\"gas\",'density'])\n",
    "#meanreg = np.mean(reg[\"gas\",'density'])\n",
    "meancov = np.mean(coveringgrid[\"gas\",'density'])\n",
    "\n"
   ]
  },
  {
   "cell_type": "code",
   "execution_count": 6,
   "metadata": {},
   "outputs": [
    {
     "name": "stdout",
     "output_type": "stream",
     "text": [
      "1.5006790108383574 g/cm**3\n"
     ]
    }
   ],
   "source": [
    "print(meancov)"
   ]
  },
  {
   "cell_type": "code",
   "execution_count": null,
   "metadata": {},
   "outputs": [
    {
     "name": "stdout",
     "output_type": "stream",
     "text": [
      "[0.94865549] g/cm**3\n",
      "1.0240579334889695 g/cm**3 0.9486554861068726 g/cm**3\n"
     ]
    }
   ],
   "source": [
    "print(reg[\"gas\",\"density\"])\n",
    "print(meandd, meanreg,meancov)\n"
   ]
  },
  {
   "cell_type": "code",
   "execution_count": 12,
   "metadata": {},
   "outputs": [
    {
     "name": "stdout",
     "output_type": "stream",
     "text": [
      "(x,  y,  z) Temperature\n"
     ]
    }
   ],
   "source": [
    "print(\"(x,  y,  z) Temperature\")\n",
    "for i in range(dd[\"gas\", \"temperature\"].size):\n",
    "    print(\n",
    "        \"(%f,  %f,  %f)    %f\"\n",
    "        % (\n",
    "            dd[\"gas\", \"x\"][i],\n",
    "            dd[\"gas\", \"y\"][i],\n",
    "            dd[\"gas\", \"z\"][i],\n",
    "            dd[\"gas\", \"temperature\"][i],\n",
    "        )\n",
    "    )"
   ]
  }
 ],
 "metadata": {
  "kernelspec": {
   "display_name": ".venv",
   "language": "python",
   "name": "python3"
  },
  "language_info": {
   "codemirror_mode": {
    "name": "ipython",
    "version": 3
   },
   "file_extension": ".py",
   "mimetype": "text/x-python",
   "name": "python",
   "nbconvert_exporter": "python",
   "pygments_lexer": "ipython3",
   "version": "3.9.7"
  },
  "orig_nbformat": 4
 },
 "nbformat": 4,
 "nbformat_minor": 2
}
